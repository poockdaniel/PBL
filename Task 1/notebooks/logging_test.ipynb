{
 "cells": [
  {
   "cell_type": "code",
   "execution_count": 1,
   "id": "2aeee490-9d7b-4b83-9b85-3e93b9647685",
   "metadata": {},
   "outputs": [],
   "source": [
    "import os\n",
    "import sys"
   ]
  },
  {
   "cell_type": "code",
   "execution_count": 2,
   "id": "d35c193a-f5be-4c3f-b427-615e51cba381",
   "metadata": {},
   "outputs": [],
   "source": [
    "sys.path.append('..')"
   ]
  },
  {
   "cell_type": "code",
   "execution_count": 3,
   "id": "6d9445be-206f-4d9a-bdba-e2471ea736b1",
   "metadata": {},
   "outputs": [],
   "source": [
    "from src import crossval as cv\n",
    "from src import models\n",
    "from src import utils\n",
    "from src import preprocessing"
   ]
  },
  {
   "cell_type": "code",
   "execution_count": 4,
   "id": "bb80bfc5-00bc-4e92-81ac-40f7cb3a1d7f",
   "metadata": {},
   "outputs": [],
   "source": [
    "dataset = preprocessing.create_dataset('/Users/daniel/Desktop/PBL/Task 1/embeddings/embeddings_exp_proteins_clustered_70_filter_lens_25-75_undersampled_s35526.npy', '/Users/daniel/Desktop/PBL/Task 1/data/preprocessed/exp_proteins_clustered_70_filter_lens_25-75_undersampled.tsv', 'exp_proteins_clustered_70_filter_lens_25-75_undersampled')"
   ]
  },
  {
   "cell_type": "code",
   "execution_count": 5,
   "id": "52afb0dd-6f95-437f-9ed0-502ee92c7c25",
   "metadata": {},
   "outputs": [],
   "source": [
    "model = models.Task1Model(dims=[1024, 683, 1], dropouts=[0.5], normalize=False)"
   ]
  },
  {
   "cell_type": "code",
   "execution_count": 2,
   "id": "b9acbebe-6f18-4ee1-b460-8c92ec34ed85",
   "metadata": {},
   "outputs": [
    {
     "ename": "ModuleNotFoundError",
     "evalue": "No module named 'torch'",
     "output_type": "error",
     "traceback": [
      "\u001b[31m---------------------------------------------------------------------------\u001b[39m",
      "\u001b[31mModuleNotFoundError\u001b[39m                       Traceback (most recent call last)",
      "\u001b[36mCell\u001b[39m\u001b[36m \u001b[39m\u001b[32mIn[2]\u001b[39m\u001b[32m, line 1\u001b[39m\n\u001b[32m----> \u001b[39m\u001b[32m1\u001b[39m \u001b[38;5;28;01mimport\u001b[39;00m\u001b[38;5;250m \u001b[39m\u001b[34;01mtorch\u001b[39;00m\u001b[34;01m.\u001b[39;00m\u001b[34;01moptim\u001b[39;00m\u001b[38;5;250m \u001b[39m\u001b[38;5;28;01mas\u001b[39;00m\u001b[38;5;250m \u001b[39m\u001b[34;01moptim\u001b[39;00m\n\u001b[32m      2\u001b[39m \u001b[38;5;28;01mimport\u001b[39;00m\u001b[38;5;250m \u001b[39m\u001b[34;01mtorch\u001b[39;00m\u001b[34;01m.\u001b[39;00m\u001b[34;01mnn\u001b[39;00m\u001b[38;5;250m \u001b[39m\u001b[38;5;28;01mas\u001b[39;00m\u001b[38;5;250m \u001b[39m\u001b[34;01mnn\u001b[39;00m\n\u001b[32m      4\u001b[39m criterion = nn.BCELoss()\n",
      "\u001b[31mModuleNotFoundError\u001b[39m: No module named 'torch'"
     ]
    }
   ],
   "source": [
    "import torch.optim as optim\n",
    "import torch.nn as nn\n",
    "\n",
    "criterion = nn.BCELoss()\n",
    "cv.cross_validate(model, dataset, optim.SGD, 0.003, criterion, 5, 32, 0.02, 50)"
   ]
  }
 ],
 "metadata": {
  "kernelspec": {
   "display_name": "Python 3 (ipykernel)",
   "language": "python",
   "name": "python3"
  },
  "language_info": {
   "codemirror_mode": {
    "name": "ipython",
    "version": 3
   },
   "file_extension": ".py",
   "mimetype": "text/x-python",
   "name": "python",
   "nbconvert_exporter": "python",
   "pygments_lexer": "ipython3",
   "version": "3.13.5"
  }
 },
 "nbformat": 4,
 "nbformat_minor": 5
}
