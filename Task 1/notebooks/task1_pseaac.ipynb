{
 "cells": [
  {
   "cell_type": "code",
   "execution_count": 1,
   "id": "3df0ead2-d796-47b4-a3da-36ad3d6d48bd",
   "metadata": {},
   "outputs": [
    {
     "name": "stderr",
     "output_type": "stream",
     "text": [
      "/Library/Frameworks/Python.framework/Versions/3.13/lib/python3.13/site-packages/protlearn/features/aaindex1.py:8: UserWarning: pkg_resources is deprecated as an API. See https://setuptools.pypa.io/en/latest/pkg_resources.html. The pkg_resources package is slated for removal as early as 2025-11-30. Refrain from using this package or pin to Setuptools<81.\n",
      "  import pkg_resources\n"
     ]
    }
   ],
   "source": [
    "import numpy as np\n",
    "from protlearn import features, preprocessing, dimreduction\n",
    "import pandas as pd\n",
    "\n",
    "# Import dataset / sequences\n",
    "df = pd.read_csv('/Users/daniel/Desktop/PBL/Task 1/preprocessed/pp_task1_c50_15_70.tsv', sep='\\t')"
   ]
  },
  {
   "cell_type": "code",
   "execution_count": 3,
   "id": "ffc13fba-eab9-46c5-890e-31329dcda5a1",
   "metadata": {},
   "outputs": [],
   "source": [
    "# Get and encode the sequences using AA composition\n",
    "seqs = list(df['Sequence'])\n",
    "labels = list(df['Enzyme'])"
   ]
  },
  {
   "cell_type": "code",
   "execution_count": 16,
   "id": "61f58bad-d6ff-4af3-bec8-23445d982213",
   "metadata": {},
   "outputs": [],
   "source": [
    "lens = [len(s) for s in seqs]\n",
    "min_len = min(lens)\n",
    "#lambdas = [i for i in range(0, min_len, 20)] \n",
    "#encodings_list = []\n",
    "\n",
    "#for lambda_ in lambdas:\n",
    " #   encodings_list.append(features.paac(seqs, lambda_=lambda_))\n",
    "\n",
    "encoding_1 = features.paac(seqs, lambda_=20)"
   ]
  },
  {
   "cell_type": "code",
   "execution_count": 22,
   "id": "385784c3-e16b-483f-b8d7-14b8f2cf508d",
   "metadata": {},
   "outputs": [],
   "source": [
    "encoding_2 = features.paac(seqs, lambda_=40)"
   ]
  },
  {
   "cell_type": "code",
   "execution_count": 25,
   "id": "da2b53c8-659a-45e8-9d73-e43111052e74",
   "metadata": {},
   "outputs": [],
   "source": [
    "encoding_3 = features.paac(seqs, lambda_=30)"
   ]
  },
  {
   "cell_type": "code",
   "execution_count": 26,
   "id": "ff71e181-493d-45a6-8883-017e1cb3faf4",
   "metadata": {},
   "outputs": [],
   "source": [
    "encoding_4 = features.paac(seqs, lambda_=20, w=.2)"
   ]
  },
  {
   "cell_type": "code",
   "execution_count": 29,
   "id": "38c1ea3b-abac-487f-b937-96e091fdf8c0",
   "metadata": {},
   "outputs": [],
   "source": [
    "encoding_5 = features.paac(seqs, lambda_=20, w=.4)"
   ]
  },
  {
   "cell_type": "code",
   "execution_count": 20,
   "id": "de9a2f85-7dcc-44de-ac18-e0349c96f943",
   "metadata": {},
   "outputs": [],
   "source": [
    "from sklearn.ensemble import RandomForestClassifier\n",
    "from sklearn.metrics import *\n",
    "from sklearn.model_selection import train_test_split, cross_val_score\n",
    "from sklearn.model_selection import KFold, StratifiedKFold\n",
    "\n",
    "rf = RandomForestClassifier()\n",
    "\n",
    "skfold = StratifiedKFold(n_splits=5, shuffle=True, random_state=41)\n",
    "\n",
    "cv_1 = cross_val_score(rf, encoding_1[0], labels, cv=skfold, scoring='accuracy')"
   ]
  },
  {
   "cell_type": "code",
   "execution_count": 23,
   "id": "a48171b0-2d66-437e-9e96-2691bb4a41f9",
   "metadata": {},
   "outputs": [],
   "source": [
    "cv_2 = cross_val_score(rf, encoding_2[0], labels, cv=skfold, scoring='accuracy')"
   ]
  },
  {
   "cell_type": "code",
   "execution_count": 27,
   "id": "db14af9f-6b44-4fc4-9a95-d221b9648853",
   "metadata": {},
   "outputs": [],
   "source": [
    "cv_3 = cross_val_score(rf, encoding_3[0], labels, cv=skfold, scoring='accuracy')\n",
    "cv_4 = cross_val_score(rf, encoding_4[0], labels, cv=skfold, scoring='accuracy')"
   ]
  },
  {
   "cell_type": "code",
   "execution_count": 32,
   "id": "b1e3c22f-0330-4c30-a0e8-7d55a7e51420",
   "metadata": {},
   "outputs": [],
   "source": [
    "cv_5 = cross_val_score(rf, encoding_5[0], labels, cv=skfold, scoring='accuracy')"
   ]
  },
  {
   "cell_type": "code",
   "execution_count": 24,
   "id": "3c469a99-d3a5-4738-8d68-f323af717e6d",
   "metadata": {},
   "outputs": [
    {
     "name": "stdout",
     "output_type": "stream",
     "text": [
      "0.7735\n",
      "0.002\n",
      "0.7657\n",
      "0.003\n"
     ]
    }
   ],
   "source": [
    "import numpy as np\n",
    "print(np.round(np.mean(cv_1), 4))\n",
    "print(np.round(np.std(cv_1), 4))\n",
    "print(np.round(np.mean(cv_2), 4))\n",
    "print(np.round(np.std(cv_2), 4))"
   ]
  },
  {
   "cell_type": "code",
   "execution_count": 28,
   "id": "5cd3f68d-33e2-42e7-8680-acb17aeb1606",
   "metadata": {},
   "outputs": [
    {
     "name": "stdout",
     "output_type": "stream",
     "text": [
      "0.7701\n",
      "0.0041\n",
      "0.7759\n",
      "0.0033\n"
     ]
    }
   ],
   "source": [
    "print(np.round(np.mean(cv_3), 4))\n",
    "print(np.round(np.std(cv_3), 4))\n",
    "print(np.round(np.mean(cv_4), 4))\n",
    "print(np.round(np.std(cv_4), 4))"
   ]
  },
  {
   "cell_type": "code",
   "execution_count": 33,
   "id": "af637a6b-5284-4d9b-a97d-9fb4b1bebe2c",
   "metadata": {},
   "outputs": [
    {
     "name": "stdout",
     "output_type": "stream",
     "text": [
      "0.772\n",
      "0.0056\n"
     ]
    }
   ],
   "source": [
    "print(np.round(np.mean(cv_5), 4))\n",
    "print(np.round(np.std(cv_5), 4))"
   ]
  },
  {
   "cell_type": "code",
   "execution_count": 36,
   "id": "7f62333c-16dc-48c2-9b3c-9c70a2128ecf",
   "metadata": {},
   "outputs": [],
   "source": [
    "aaindex_encodings = features.aaindex1(seqs, standardize='zscore')[0]\n",
    "encoding_5 = encoding_5[0]\n",
    "encodings_hybrid = np.array([np.concat((encoding_5[i], aaindex_encodings[i])) for i in range(0, len(aaindex_encodings))])"
   ]
  },
  {
   "cell_type": "code",
   "execution_count": 39,
   "id": "aae4a3f9-f78d-4b01-8772-c3f83ddc8169",
   "metadata": {},
   "outputs": [],
   "source": [
    "cv_6 = cross_val_score(rf, encodings_hybrid, labels, cv=skfold, scoring='accuracy')"
   ]
  },
  {
   "cell_type": "code",
   "execution_count": 40,
   "id": "60d9514f-cb6b-42ec-8206-d75ee6808837",
   "metadata": {},
   "outputs": [
    {
     "name": "stdout",
     "output_type": "stream",
     "text": [
      "0.7899\n",
      "0.0062\n"
     ]
    }
   ],
   "source": [
    "print(np.round(np.mean(cv_6), 4))\n",
    "print(np.round(np.std(cv_6), 4))"
   ]
  },
  {
   "cell_type": "code",
   "execution_count": 48,
   "id": "a5f28356-3b90-46e6-bf5d-11a5c88c6cf4",
   "metadata": {},
   "outputs": [],
   "source": [
    "digrams = features.ngram(seqs, n=2)[0]\n",
    "encodings_hybrid_2 = np.array([np.concat((encoding_5[i], digrams[i])) for i in range(0, len(digrams))])"
   ]
  },
  {
   "cell_type": "code",
   "execution_count": 50,
   "id": "5dad23c5-ba64-4fa9-a51b-b9059db58ec9",
   "metadata": {},
   "outputs": [
    {
     "name": "stdout",
     "output_type": "stream",
     "text": [
      "0.7631\n",
      "0.0057\n"
     ]
    }
   ],
   "source": [
    "cv_7 = cross_val_score(rf, encodings_hybrid_2, labels, cv=skfold, scoring='accuracy')\n",
    "\n",
    "print(np.round(np.mean(cv_7), 4))\n",
    "print(np.round(np.std(cv_7), 4))"
   ]
  }
 ],
 "metadata": {
  "kernelspec": {
   "display_name": "Python 3 (ipykernel)",
   "language": "python",
   "name": "python3"
  },
  "language_info": {
   "codemirror_mode": {
    "name": "ipython",
    "version": 3
   },
   "file_extension": ".py",
   "mimetype": "text/x-python",
   "name": "python",
   "nbconvert_exporter": "python",
   "pygments_lexer": "ipython3",
   "version": "3.13.5"
  }
 },
 "nbformat": 4,
 "nbformat_minor": 5
}
