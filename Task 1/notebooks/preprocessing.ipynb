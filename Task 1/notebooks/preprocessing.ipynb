{
 "cells": [
  {
   "cell_type": "code",
   "execution_count": 1,
   "id": "735d06e3-9455-4694-a96e-ef90521ff212",
   "metadata": {},
   "outputs": [],
   "source": [
    "import pandas as pd\n",
    "import numpy as np\n",
    "from utils.pre_processing_task_1 import PreProcessingTask1 as pp\n",
    "import matplotlib.pyplot as plt\n",
    "\n",
    "df = pd.read_csv('datasets/raw/exp_proteins.tsv', sep='\\t')\n",
    "#df = pp.remove_duplicate_seqs(df)\n",
    "#df = pp.add_enz_flag(df)\n",
    "#df = pp.filter_lengths(df, 15, 70)\n",
    "\n",
    "# Following file is for clustering with mmseqs2\n",
    "#pp.df_to_fasta(df, 'tempfiles/task1_15_70.fasta')"
   ]
  },
  {
   "cell_type": "code",
   "execution_count": 6,
   "id": "75614697-447d-47f6-92f3-553c7dbf2240",
   "metadata": {},
   "outputs": [],
   "source": [
    "df = pp.remove_unnatural_seqs(df)\n",
    "clustered_df = pp.cluster_df(df, 'Datasets/task1_c50_15_70.tsv')\n",
    "undersampled_df = pp.undersample(clustered_df, 432)"
   ]
  },
  {
   "cell_type": "code",
   "execution_count": 7,
   "id": "0b7ee180-3d58-4f98-ac92-6336b2cfe0c0",
   "metadata": {},
   "outputs": [],
   "source": [
    "random_df = pp.remove_random(undersampled_df, len(undersampled_df) - 3000)"
   ]
  },
  {
   "cell_type": "code",
   "execution_count": 11,
   "id": "dfbd72d2-cf02-4e0c-88be-87958d4aef5d",
   "metadata": {},
   "outputs": [],
   "source": [
    "pp.df_to_tsv(random_df, 'preprocessed/pp_task1_c50_15_70_random3000.tsv')\n",
    "pp.df_to_fasta(random_df, 'preprocessed/pp_task1_c50_15_70_random3000.fasta')"
   ]
  },
  {
   "cell_type": "code",
   "execution_count": 2,
   "id": "6821a9ee-e968-4d98-8f57-3b19b84f1946",
   "metadata": {},
   "outputs": [],
   "source": [
    "import pandas as pd\n",
    "import numpy as np\n",
    "from utils.pre_processing_task_1 import PreProcessingTask1 as pp\n",
    "import matplotlib.pyplot as plt\n",
    "\n",
    "df = pd.read_csv('Datasets/exp_proteins.tsv', sep='\\t')\n",
    "df = pp.add_enz_flag(df)\n",
    "df = pp.remove_unnatural_seqs(df)\n",
    "pp.df_to_tsv(df, 'preprocessed/pp_task1_no_filtering.tsv')\n",
    "pp.df_to_fasta(df, 'preprocessed/pp_task1_no_filtering.fasta')"
   ]
  },
  {
   "cell_type": "markdown",
   "id": "30b616a1-7d4c-4a9f-8b98-90469eac2f17",
   "metadata": {},
   "source": [
    "**Using PreProcessingTask1 class and cluster maps (from mmseqs2), generate new clustered datasets with 30%, 50%, 70%, and 90% identity thresholds**"
   ]
  },
  {
   "cell_type": "code",
   "execution_count": 6,
   "id": "93f8e69a-36d1-4990-a611-f748893f1d07",
   "metadata": {},
   "outputs": [],
   "source": [
    "import pandas as pd\n",
    "from utils.pre_processing_task_1 import PreProcessingTask1 as pp\n",
    "\n",
    "df = pd.read_csv('datasets/raw/exp_proteins.tsv', sep='\\t')\n",
    "df = pp.add_enz_flag(df)\n",
    "\n",
    "df30 = pp.cluster_df(df, '/Users/daniel/Desktop/PBL/Task 1/datasets/cluster_maps/cluster_map_30.tsv')\n",
    "df50 = pp.cluster_df(df, '/Users/daniel/Desktop/PBL/Task 1/datasets/cluster_maps/cluster_map_50.tsv')\n",
    "df70 = pp.cluster_df(df, '/Users/daniel/Desktop/PBL/Task 1/datasets/cluster_maps/cluster_map_70.tsv')\n",
    "df90 = pp.cluster_df(df, '/Users/daniel/Desktop/PBL/Task 1/datasets/cluster_maps/cluster_map_90.tsv')\n",
    "df100 = pp.cluster_df(df, '/Users/daniel/Desktop/PBL/Task 1/datasets/cluster_maps/cluster_map_100.tsv')\n",
    "\n",
    "df30 = pp.remove_unnatural_seqs(df30)\n",
    "df50 = pp.remove_unnatural_seqs(df50)\n",
    "df70 = pp.remove_unnatural_seqs(df70)\n",
    "df90 = pp.remove_unnatural_seqs(df90)\n",
    "df100 = pp.remove_unnatural_seqs(df100)\n",
    "\n",
    "pp.df_to_fasta(df30, '/Users/daniel/Desktop/PBL/Task 1/datasets/clustered/exp_proteins_clustered_30.fasta')\n",
    "pp.df_to_fasta(df50, '/Users/daniel/Desktop/PBL/Task 1/datasets/clustered/exp_proteins_clustered_50.fasta')\n",
    "pp.df_to_fasta(df70, '/Users/daniel/Desktop/PBL/Task 1/datasets/clustered/exp_proteins_clustered_70.fasta')\n",
    "pp.df_to_fasta(df90, '/Users/daniel/Desktop/PBL/Task 1/datasets/clustered/exp_proteins_clustered_90.fasta')\n",
    "pp.df_to_fasta(df100, '/Users/daniel/Desktop/PBL/Task 1/datasets/clustered/exp_proteins_clustered_100.fasta')\n",
    "\n",
    "pp.df_to_tsv(df30, '/Users/daniel/Desktop/PBL/Task 1/datasets/clustered/exp_proteins_clustered_30.tsv')\n",
    "pp.df_to_tsv(df50, '/Users/daniel/Desktop/PBL/Task 1/datasets/clustered/exp_proteins_clustered_50.tsv')\n",
    "pp.df_to_tsv(df70, '/Users/daniel/Desktop/PBL/Task 1/datasets/clustered/exp_proteins_clustered_70.tsv')\n",
    "pp.df_to_tsv(df90, '/Users/daniel/Desktop/PBL/Task 1/datasets/clustered/exp_proteins_clustered_90.tsv')\n",
    "pp.df_to_tsv(df100, '/Users/daniel/Desktop/PBL/Task 1/datasets/clustered/exp_proteins_clustered_100.tsv')"
   ]
  }
 ],
 "metadata": {
  "kernelspec": {
   "display_name": "Python 3 (ipykernel)",
   "language": "python",
   "name": "python3"
  },
  "language_info": {
   "codemirror_mode": {
    "name": "ipython",
    "version": 3
   },
   "file_extension": ".py",
   "mimetype": "text/x-python",
   "name": "python",
   "nbconvert_exporter": "python",
   "pygments_lexer": "ipython3",
   "version": "3.13.5"
  }
 },
 "nbformat": 4,
 "nbformat_minor": 5
}
