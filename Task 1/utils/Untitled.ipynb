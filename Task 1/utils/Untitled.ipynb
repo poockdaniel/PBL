{
 "cells": [
  {
   "cell_type": "code",
   "execution_count": 13,
   "id": "3cbda62c-e1e9-4b13-8665-93a44a372c9f",
   "metadata": {},
   "outputs": [],
   "source": [
    "import torch\n",
    "from torch.utils.data import DataLoader, Dataset, Subset\n",
    "from sklearn.model_selection import StratifiedKFold, KFold\n",
    "\n",
    "def cross_validate(model, dataset, loader, loss_fn, optimizer, n_splits=5, batch_size=32, ):\n",
    "    skfold = StratifiedKFold(n_splits=n_splits, shuffle=True)\n",
    "    skfold.split([1, 2, 3, 4, 5, 6], [10, 20, 30, 40, 50, 60])     "
   ]
  },
  {
   "cell_type": "code",
   "execution_count": 49,
   "id": "c30c75a8-d474-4b27-927e-6f228a826795",
   "metadata": {},
   "outputs": [],
   "source": [
    "from torch.utils.data import Dataset, DataLoader\n",
    "import pandas as pd\n",
    "\n",
    "class Task1Dataset(Dataset):\n",
    "    def __init__(self, X, y):\n",
    "        self.X = X\n",
    "        self.y = y\n",
    "    \n",
    "    def __len__(self):\n",
    "        return len(self.X)\n",
    "\n",
    "    def __getitem__(self, idx):\n",
    "        return self.X[idx], self.y[idx]"
   ]
  },
  {
   "cell_type": "code",
   "execution_count": 22,
   "id": "e02922b0-ca08-4bd4-8989-5722c4fb9031",
   "metadata": {},
   "outputs": [
    {
     "ename": "_IncompleteInputError",
     "evalue": "incomplete input (2611861240.py, line 6)",
     "output_type": "error",
     "traceback": [
      "  \u001b[36mCell\u001b[39m\u001b[36m \u001b[39m\u001b[32mIn[22]\u001b[39m\u001b[32m, line 6\u001b[39m\n\u001b[31m    \u001b[39m\n    ^\n\u001b[31m_IncompleteInputError\u001b[39m\u001b[31m:\u001b[39m incomplete input\n"
     ]
    }
   ],
   "source": [
    "dataset = Task1Dataset([5, 6, 7, 8, 9, 10], [50, 60, 70, 80, 90, 100])\n",
    "kfold = KFold(n_splits=5, shuffle=True)\n",
    "loader = DataLoader(dataset, batch_size=32)\n",
    "\n",
    "for fo, (train_idx, val_idx) in enumerate(kfold.split(dataset.X, dataset.y)):\n",
    "    train_set = Subset(dataset, train_idx)\n",
    "    val_set = Subset(dataset, val_idx)\n",
    "\n",
    "    train_loader = DataLoader(train_set, batch_size=32)\n",
    "    val_loader = DataLoader(val_set, batch_size=32)\n",
    "\n",
    "    for e in epoch:\n",
    "        train_one_epoch(model, ...)\n",
    "        "
   ]
  },
  {
   "cell_type": "code",
   "execution_count": 23,
   "id": "2cc457ab-7e84-47f4-ad3a-3144b43bf885",
   "metadata": {},
   "outputs": [],
   "source": [
    "def train_one_epoch(model, loader, optimizer, loss_fn):\n",
    "    model.train()\n",
    "    total_loss = 0\n",
    "    for feats, labels in loader:\n",
    "        optimizer.zero_grad()\n",
    "        outputs = model(feats)\n",
    "        loss = loss_fn(outputs, labels)\n",
    "        loss.backward()\n",
    "        optimizer.step()\n",
    "        total_loss += loss.item()\n",
    "    return total_loss / (len(dataset) / loader.batch_size) # Return average loss per batch"
   ]
  },
  {
   "cell_type": "code",
   "execution_count": 55,
   "id": "2266b82e-9eee-4e14-a394-b8a1c73ec5e2",
   "metadata": {},
   "outputs": [],
   "source": [
    "def evaluate(model, loader, loss_fn):\n",
    "    model.eval()\n",
    "    with torch.no_grad():\n",
    "        total_loss = 0\n",
    "        conf = np.zeros([2, 2], dtype=int)\n",
    "        for feats, labels in loader:\n",
    "            preds = model(feats)\n",
    "            loss = loss_fn(preds, labels)\n",
    "            total_loss += loss.item()\n",
    "            conf += confusion_matrix(preds, labels)\n",
    "        avg_loss = total_loss / (len(dataset) / loader.batch_size)\n",
    "        tn, fp, fn, tp = confusion_matrix([0, 1, 0, 1], [1, 1, 1, 0]).ravel().tolist()\n",
    "        acc = (tn + tp) / len(loader)\n",
    "        return avg_loss, acc, tp, fn, fp, tn"
   ]
  },
  {
   "cell_type": "code",
   "execution_count": 54,
   "id": "644efb90-6f8c-497b-bbf9-e3c623453ed5",
   "metadata": {},
   "outputs": [
    {
     "data": {
      "text/plain": [
       "3"
      ]
     },
     "execution_count": 54,
     "metadata": {},
     "output_type": "execute_result"
    }
   ],
   "source": [
    "from sklearn.metrics import confusion_matrix\n",
    "import numpy as np\n",
    "\n",
    "dataset = Task1Dataset([12, 3, 5], [123, 5, 1])\n",
    "loader = DataLoader(dataset)\n",
    "len(loader)"
   ]
  },
  {
   "cell_type": "code",
   "execution_count": 103,
   "id": "8f81136b-fa82-4dd6-8879-6765867b734d",
   "metadata": {},
   "outputs": [
    {
     "data": {
      "text/plain": [
       "array([[1, 2, 3],\n",
       "       [1, 2, 3]])"
      ]
     },
     "execution_count": 103,
     "metadata": {},
     "output_type": "execute_result"
    }
   ],
   "source": [
    "t0 = []\n",
    "t1 = [1, 2, 3]\n",
    "t2 = [1, 2, 3]\n",
    "\n",
    "\n",
    "t0.append(t1)\n",
    "t0.append(t2)\n",
    "np.stack(t0)"
   ]
  }
 ],
 "metadata": {
  "kernelspec": {
   "display_name": "Python 3 (ipykernel)",
   "language": "python",
   "name": "python3"
  },
  "language_info": {
   "codemirror_mode": {
    "name": "ipython",
    "version": 3
   },
   "file_extension": ".py",
   "mimetype": "text/x-python",
   "name": "python",
   "nbconvert_exporter": "python",
   "pygments_lexer": "ipython3",
   "version": "3.13.5"
  }
 },
 "nbformat": 4,
 "nbformat_minor": 5
}
