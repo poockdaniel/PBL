{
 "cells": [
  {
   "cell_type": "code",
   "execution_count": 21,
   "id": "eb6a4ed4-d751-472e-8dec-c53a2022f4b8",
   "metadata": {
    "scrolled": true
   },
   "outputs": [
    {
     "name": "stdout",
     "output_type": "stream",
     "text": [
      "1481\n",
      "771\n",
      "1480\n"
     ]
    },
    {
     "data": {
      "text/plain": [
       "array([[ 0.009,  0.047, -0.033, ..., -0.009, -0.004, -0.012],\n",
       "       [ 0.021,  0.043,  0.065, ..., -0.06 ,  0.048, -0.008],\n",
       "       [ 0.04 ,  0.064,  0.005, ...,  0.006,  0.015,  0.028]],\n",
       "      shape=(3, 1024), dtype=float32)"
      ]
     },
     "execution_count": 21,
     "metadata": {},
     "output_type": "execute_result"
    }
   ],
   "source": [
    "import h5py\n",
    "import numpy as np\n",
    "\n",
    "with h5py.File('/Users/daniel/Downloads/embeddings_exp_proteins_clustered_70_filter_lens_25-75_undersampled_1 (1) (1).h5', 'r') as f:\n",
    "    f.keys()\n",
    "    \n",
    "    key_list = list(f.keys())\n",
    "    count = len(key_list)\n",
    "    print(count)\n",
    "    embedding_list = list()\n",
    "\n",
    "    for i in range(0, count):    \n",
    "        curr_key = f'Batch {i}'\n",
    "        curr_batch = f[curr_key][:]\n",
    "        #print(curr_batch.shape[0])\n",
    "        if curr_batch.shape[0] != 24:\n",
    "            print(i)\n",
    "        embedding_list.extend(curr_batch)\n",
    "\n",
    "embeddings = np.array(embedding_list)\n",
    "np.round(embeddings[18514:18517], 3)\n",
    "#np.save('prott5.npy', embeddings)"
   ]
  },
  {
   "cell_type": "code",
   "execution_count": 13,
   "id": "a63ebc22-25b3-4ef5-91d4-a71494ed44a7",
   "metadata": {},
   "outputs": [],
   "source": [
    "import h5py\n",
    "import numpy as np\n",
    "\n",
    "with h5py.File('/Users/daniel/Downloads/test.h5', 'r') as f1, h5py.File('/Users/daniel/Downloads/embeddings_c50_15_70.h5', 'r') as f2, h5py.File('embeddings_c50_15_70_final.h5', 'w') as out:\n",
    "    for key in f1.keys():\n",
    "        f1.copy(key, out)\n",
    "\n",
    "    for key in f2.keys():\n",
    "        f2.copy(key, out)"
   ]
  },
  {
   "cell_type": "code",
   "execution_count": 1,
   "id": "58622531-7b64-4ed9-a377-a2d39fc0673b",
   "metadata": {},
   "outputs": [],
   "source": [
    "import numpy as np\n",
    "embeddings = np.load('prott5.npy')"
   ]
  },
  {
   "cell_type": "code",
   "execution_count": 95,
   "id": "ec627c28-31d3-4787-b1bd-04657674eaf7",
   "metadata": {},
   "outputs": [],
   "source": [
    "from sklearn.model_selection import train_test_split\n",
    "from sklearn.metrics import confusion_matrix, matthews_corrcoef, accuracy_score, precision_score, recall_score\n",
    "import pandas as pd\n",
    "\n",
    "df = pd.read_csv('datasets/curated/exp_proteins_clustered_70_filter_lens_25-75_undersampled.tsv', sep='\\t')\n",
    "\n",
    "y = [enz for enz in df['Enzyme']]"
   ]
  },
  {
   "cell_type": "code",
   "execution_count": 32,
   "id": "1068e94a-bd58-4656-8f6f-34ee40bb5369",
   "metadata": {},
   "outputs": [],
   "source": [
    "import utils.cross_validation as cv\n",
    "import torch"
   ]
  },
  {
   "cell_type": "code",
   "execution_count": 93,
   "id": "a861fe22-595c-4edf-af69-22a807458f32",
   "metadata": {},
   "outputs": [],
   "source": [
    "embeddings = np.load('/Users/daniel/Desktop/PBL/Task 1/embeddings/embeddings_exp_proteins_clustered_70_filter_lens_25-75_undersampled_s35526.npy')"
   ]
  },
  {
   "cell_type": "code",
   "execution_count": 96,
   "id": "2318c755-420f-419b-ade3-bc38330e26d2",
   "metadata": {},
   "outputs": [],
   "source": [
    "embeddings_tensor = torch.tensor(embeddings, dtype=torch.float32)\n",
    "y_tensor = torch.tensor(y, dtype=torch.float32).unsqueeze(dim=1)"
   ]
  },
  {
   "cell_type": "code",
   "execution_count": 97,
   "id": "c1b10606-0c29-4775-8707-f2bcecec4f1f",
   "metadata": {},
   "outputs": [],
   "source": [
    "dataset = Task1Dataset(embeddings_tensor, y_tensor)"
   ]
  },
  {
   "cell_type": "code",
   "execution_count": 100,
   "id": "ea07ee4e-7296-4492-89d8-aa375e7860c6",
   "metadata": {},
   "outputs": [
    {
     "name": "stdout",
     "output_type": "stream",
     "text": [
      "Fold 1\n",
      "Train loss: 0.6916, Validation loss: 0.6895, Validation acc: 0.5000\n",
      "Train loss: 0.6861, Validation loss: 0.6802, Validation acc: 0.5000\n",
      "Train loss: 0.6667, Validation loss: 0.6423, Validation acc: 0.5000\n",
      "Train loss: 0.5854, Validation loss: 0.4984, Validation acc: 0.4937\n"
     ]
    },
    {
     "ename": "ValueError",
     "evalue": "At least one label specified must be in y_true",
     "output_type": "error",
     "traceback": [
      "\u001b[31m---------------------------------------------------------------------------\u001b[39m",
      "\u001b[31mValueError\u001b[39m                                Traceback (most recent call last)",
      "\u001b[36mCell\u001b[39m\u001b[36m \u001b[39m\u001b[32mIn[100]\u001b[39m\u001b[32m, line 2\u001b[39m\n\u001b[32m      1\u001b[39m criterion = nn.BCEWithLogitsLoss()\n\u001b[32m----> \u001b[39m\u001b[32m2\u001b[39m cv_score = \u001b[43mcv\u001b[49m\u001b[43m.\u001b[49m\u001b[43mcross_validate\u001b[49m\u001b[43m(\u001b[49m\u001b[43mTask1ModelAAIndex\u001b[49m\u001b[43m,\u001b[49m\u001b[43m \u001b[49m\u001b[43mdataset\u001b[49m\u001b[43m,\u001b[49m\u001b[43m \u001b[49m\u001b[43moptim\u001b[49m\u001b[43m.\u001b[49m\u001b[43mSGD\u001b[49m\u001b[43m,\u001b[49m\u001b[43m \u001b[49m\u001b[43mcriterion\u001b[49m\u001b[43m,\u001b[49m\u001b[43m \u001b[49m\u001b[32;43m5\u001b[39;49m\u001b[43m,\u001b[49m\u001b[43m \u001b[49m\u001b[32;43m32\u001b[39;49m\u001b[43m,\u001b[49m\u001b[43m \u001b[49m\u001b[32;43m0.01\u001b[39;49m\u001b[43m,\u001b[49m\u001b[43m \u001b[49m\u001b[32;43m100\u001b[39;49m\u001b[43m)\u001b[49m\n",
      "\u001b[36mFile \u001b[39m\u001b[32m~/Desktop/PBL/Task 1/utils/cross_validation.py:68\u001b[39m, in \u001b[36mcross_validate\u001b[39m\u001b[34m(model_fn, dataset, optimizer_fn, loss_fn, n_splits, batch_size, learning_rate, epochs)\u001b[39m\n\u001b[32m     66\u001b[39m \u001b[38;5;28;01mfor\u001b[39;00m e \u001b[38;5;129;01min\u001b[39;00m \u001b[38;5;28mrange\u001b[39m(epochs):\n\u001b[32m     67\u001b[39m     train_loss, train_acc = train_one_epoch(model, train_loader, optimizer, loss_fn)\n\u001b[32m---> \u001b[39m\u001b[32m68\u001b[39m     val_loss, val_acc, tp, fn, fp, tn = \u001b[43mevaluate\u001b[49m\u001b[43m(\u001b[49m\u001b[43mmodel\u001b[49m\u001b[43m,\u001b[49m\u001b[43m \u001b[49m\u001b[43mval_loader\u001b[49m\u001b[43m,\u001b[49m\u001b[43m \u001b[49m\u001b[43mloss_fn\u001b[49m\u001b[43m)\u001b[49m\n\u001b[32m     69\u001b[39m     \u001b[38;5;28mprint\u001b[39m(\u001b[33mf\u001b[39m\u001b[33m'\u001b[39m\u001b[33mTrain loss: \u001b[39m\u001b[38;5;132;01m{\u001b[39;00mtrain_loss\u001b[38;5;132;01m:\u001b[39;00m\u001b[33m.4f\u001b[39m\u001b[38;5;132;01m}\u001b[39;00m\u001b[33m, Validation loss: \u001b[39m\u001b[38;5;132;01m{\u001b[39;00mval_loss\u001b[38;5;132;01m:\u001b[39;00m\u001b[33m.4f\u001b[39m\u001b[38;5;132;01m}\u001b[39;00m\u001b[33m, Validation acc: \u001b[39m\u001b[38;5;132;01m{\u001b[39;00mval_acc\u001b[38;5;132;01m:\u001b[39;00m\u001b[33m.4f\u001b[39m\u001b[38;5;132;01m}\u001b[39;00m\u001b[33m'\u001b[39m)\n\u001b[32m     70\u001b[39m     train_loss_list.append(train_loss)\n",
      "\u001b[36mFile \u001b[39m\u001b[32m~/Desktop/PBL/Task 1/utils/cross_validation.py:36\u001b[39m, in \u001b[36mevaluate\u001b[39m\u001b[34m(model, loader, loss_fn)\u001b[39m\n\u001b[32m     34\u001b[39m     loss = loss_fn(preds, labels)\n\u001b[32m     35\u001b[39m     total_loss += loss.item()\n\u001b[32m---> \u001b[39m\u001b[32m36\u001b[39m     conf += \u001b[43mconfusion_matrix\u001b[49m\u001b[43m(\u001b[49m\u001b[43mnp\u001b[49m\u001b[43m.\u001b[49m\u001b[43mround\u001b[49m\u001b[43m(\u001b[49m\u001b[43mpreds\u001b[49m\u001b[43m)\u001b[49m\u001b[43m,\u001b[49m\u001b[43m \u001b[49m\u001b[43mlabels\u001b[49m\u001b[43m,\u001b[49m\u001b[43m \u001b[49m\u001b[43mlabels\u001b[49m\u001b[43m=\u001b[49m\u001b[43m[\u001b[49m\u001b[32;43m0\u001b[39;49m\u001b[43m,\u001b[49m\u001b[43m \u001b[49m\u001b[32;43m1\u001b[39;49m\u001b[43m]\u001b[49m\u001b[43m)\u001b[49m\n\u001b[32m     37\u001b[39m avg_loss = total_loss / \u001b[38;5;28mlen\u001b[39m(loader)\n\u001b[32m     38\u001b[39m tn, fp, fn, tp = conf.ravel().tolist()\n",
      "\u001b[36mFile \u001b[39m\u001b[32m/Library/Frameworks/Python.framework/Versions/3.13/lib/python3.13/site-packages/sklearn/utils/_param_validation.py:218\u001b[39m, in \u001b[36mvalidate_params.<locals>.decorator.<locals>.wrapper\u001b[39m\u001b[34m(*args, **kwargs)\u001b[39m\n\u001b[32m    212\u001b[39m \u001b[38;5;28;01mtry\u001b[39;00m:\n\u001b[32m    213\u001b[39m     \u001b[38;5;28;01mwith\u001b[39;00m config_context(\n\u001b[32m    214\u001b[39m         skip_parameter_validation=(\n\u001b[32m    215\u001b[39m             prefer_skip_nested_validation \u001b[38;5;129;01mor\u001b[39;00m global_skip_validation\n\u001b[32m    216\u001b[39m         )\n\u001b[32m    217\u001b[39m     ):\n\u001b[32m--> \u001b[39m\u001b[32m218\u001b[39m         \u001b[38;5;28;01mreturn\u001b[39;00m \u001b[43mfunc\u001b[49m\u001b[43m(\u001b[49m\u001b[43m*\u001b[49m\u001b[43margs\u001b[49m\u001b[43m,\u001b[49m\u001b[43m \u001b[49m\u001b[43m*\u001b[49m\u001b[43m*\u001b[49m\u001b[43mkwargs\u001b[49m\u001b[43m)\u001b[49m\n\u001b[32m    219\u001b[39m \u001b[38;5;28;01mexcept\u001b[39;00m InvalidParameterError \u001b[38;5;28;01mas\u001b[39;00m e:\n\u001b[32m    220\u001b[39m     \u001b[38;5;66;03m# When the function is just a wrapper around an estimator, we allow\u001b[39;00m\n\u001b[32m    221\u001b[39m     \u001b[38;5;66;03m# the function to delegate validation to the estimator, but we replace\u001b[39;00m\n\u001b[32m    222\u001b[39m     \u001b[38;5;66;03m# the name of the estimator by the name of the function in the error\u001b[39;00m\n\u001b[32m    223\u001b[39m     \u001b[38;5;66;03m# message to avoid confusion.\u001b[39;00m\n\u001b[32m    224\u001b[39m     msg = re.sub(\n\u001b[32m    225\u001b[39m         \u001b[33mr\u001b[39m\u001b[33m\"\u001b[39m\u001b[33mparameter of \u001b[39m\u001b[33m\\\u001b[39m\u001b[33mw+ must be\u001b[39m\u001b[33m\"\u001b[39m,\n\u001b[32m    226\u001b[39m         \u001b[33mf\u001b[39m\u001b[33m\"\u001b[39m\u001b[33mparameter of \u001b[39m\u001b[38;5;132;01m{\u001b[39;00mfunc.\u001b[34m__qualname__\u001b[39m\u001b[38;5;132;01m}\u001b[39;00m\u001b[33m must be\u001b[39m\u001b[33m\"\u001b[39m,\n\u001b[32m    227\u001b[39m         \u001b[38;5;28mstr\u001b[39m(e),\n\u001b[32m    228\u001b[39m     )\n",
      "\u001b[36mFile \u001b[39m\u001b[32m/Library/Frameworks/Python.framework/Versions/3.13/lib/python3.13/site-packages/sklearn/metrics/_classification.py:481\u001b[39m, in \u001b[36mconfusion_matrix\u001b[39m\u001b[34m(y_true, y_pred, labels, sample_weight, normalize)\u001b[39m\n\u001b[32m    479\u001b[39m         \u001b[38;5;28;01mreturn\u001b[39;00m np.zeros((n_labels, n_labels), dtype=\u001b[38;5;28mint\u001b[39m)\n\u001b[32m    480\u001b[39m     \u001b[38;5;28;01melif\u001b[39;00m \u001b[38;5;28mlen\u001b[39m(np.intersect1d(y_true, labels)) == \u001b[32m0\u001b[39m:\n\u001b[32m--> \u001b[39m\u001b[32m481\u001b[39m         \u001b[38;5;28;01mraise\u001b[39;00m \u001b[38;5;167;01mValueError\u001b[39;00m(\u001b[33m\"\u001b[39m\u001b[33mAt least one label specified must be in y_true\u001b[39m\u001b[33m\"\u001b[39m)\n\u001b[32m    483\u001b[39m \u001b[38;5;28;01mif\u001b[39;00m sample_weight \u001b[38;5;129;01mis\u001b[39;00m \u001b[38;5;28;01mNone\u001b[39;00m:\n\u001b[32m    484\u001b[39m     sample_weight = np.ones(y_true.shape[\u001b[32m0\u001b[39m], dtype=np.int64)\n",
      "\u001b[31mValueError\u001b[39m: At least one label specified must be in y_true"
     ]
    }
   ],
   "source": [
    "criterion = nn.BCELoss()\n",
    "cv_score = cv.cross_validate(Task1ModelAAIndex, dataset, optim.SGD, criterion, 5, 32, 0.01, 100)"
   ]
  },
  {
   "cell_type": "code",
   "execution_count": 91,
   "id": "874bcaac-3d0b-4bc4-94c0-45910e5ce368",
   "metadata": {},
   "outputs": [],
   "source": [
    "import torch.nn as nn\n",
    "import torch.optim as optim\n",
    "\n",
    "class Task1ModelAAIndex(nn.Module):\n",
    "    def __init__(self):\n",
    "        super().__init__()\n",
    "        self.le_relu = nn.LeakyReLU()\n",
    "        self.hidden_layer_1 = nn.Linear(1024, 512, dtype=torch.float32)\n",
    "        self.dropout_1 = nn.Dropout(0.4)\n",
    "        self.hidden_layer_2 = nn.Linear(512, 128, dtype=torch.float32)\n",
    "        self.dropout_2 = nn.Dropout(0.3)\n",
    "        self.output_layer = nn.Linear(128, 1, dtype=torch.float32)\n",
    "        \n",
    "    def forward(self, x):\n",
    "        h1 = self.le_relu(self.hidden_layer_1(x))\n",
    "        d1 = self.dropout_1(h1)\n",
    "        h2 = self.le_relu(self.hidden_layer_2(d1))\n",
    "        d2 = self.dropout_2(h2)\n",
    "        return self.output_layer(d2)"
   ]
  },
  {
   "cell_type": "code",
   "execution_count": 92,
   "id": "f5f2703e-47a0-48bb-97aa-c29f8481e60c",
   "metadata": {},
   "outputs": [],
   "source": [
    "from torch.utils.data import Dataset, DataLoader\n",
    "import pandas as pd\n",
    "\n",
    "class Task1Dataset(Dataset):\n",
    "    def __init__(self, X, y):\n",
    "        self.X = X\n",
    "        self.y = y\n",
    "    \n",
    "    def __len__(self):\n",
    "        return len(self.X)\n",
    "\n",
    "    def __getitem__(self, idx):\n",
    "        return self.X[idx], self.y[idx]"
   ]
  },
  {
   "cell_type": "code",
   "execution_count": 44,
   "id": "0d87967d-3a6f-479e-95a0-eb42ec6e2111",
   "metadata": {},
   "outputs": [
    {
     "name": "stdout",
     "output_type": "stream",
     "text": [
      "0.6919603327018258\n",
      "0.6871672543547315\n",
      "0.6728998821180087\n",
      "0.6137453201493241\n",
      "0.468155529419951\n",
      "0.3557770244890175\n",
      "0.2999184210546345\n",
      "0.27046628228144465\n",
      "0.25482413860398934\n",
      "0.24184667242663238\n",
      "0.23441737378400612\n",
      "0.22615997153007847\n",
      "0.22140245111187984\n",
      "0.2133879964773298\n",
      "0.210309691050446\n",
      "0.20426542766816158\n",
      "0.20167901272208927\n",
      "0.19778770703647322\n",
      "0.19385965332901167\n",
      "0.19179039025356812\n",
      "0.18764005402082654\n",
      "0.1855014148322764\n",
      "0.18427545721243493\n",
      "0.1815442668838627\n",
      "0.17949265673378534\n",
      "0.1770869197698349\n",
      "0.17459450260580991\n",
      "0.17333066563467742\n",
      "0.17174818460163885\n",
      "0.16829243221363135\n",
      "0.166492335130334\n",
      "0.16481125496373736\n",
      "0.1640732452159278\n",
      "0.16242372805543212\n",
      "0.16075064557984933\n",
      "0.15931456900586097\n",
      "0.157757967444283\n",
      "0.15545687764422203\n",
      "0.1537216762342247\n",
      "0.15267658866063877\n",
      "0.15079755542640158\n",
      "0.14915578615833663\n",
      "0.14769561594580588\n",
      "0.14584616373795464\n",
      "0.1453021728313286\n",
      "0.1433478355354025\n",
      "0.14260398131996424\n",
      "0.14024935348213588\n",
      "0.13822867331061345\n",
      "0.13850711285284986\n",
      "0.13647197326092977\n",
      "0.1357356842158167\n",
      "0.13401902816331776\n",
      "0.13269065489838422\n",
      "0.13116568778839363\n",
      "0.1296061533646547\n",
      "0.1285070504508314\n",
      "0.127328801275445\n",
      "0.1256054001075247\n",
      "0.12496552112232796\n",
      "0.12303097723612573\n",
      "0.12182931841927558\n",
      "0.12101264068214515\n",
      "0.11996016468511045\n",
      "0.11842842759124654\n",
      "0.11863459974880818\n",
      "0.11625153815767783\n",
      "0.11578999618352166\n",
      "0.11463362181657356\n",
      "0.11429632011610294\n",
      "0.11249514155211776\n",
      "0.11052738749091465\n",
      "0.10927305872904576\n",
      "0.10791093766836947\n",
      "0.1070541307786495\n",
      "0.10590481804089581\n",
      "0.10391055278266412\n",
      "0.10452813796073784\n",
      "0.10299132718031981\n",
      "0.10202104143598133\n",
      "0.10078523420563619\n",
      "0.09954021203546548\n",
      "0.09778972497919339\n",
      "0.09652732474979132\n",
      "0.09640699608572753\n",
      "0.0940210337512505\n",
      "0.09496367863238063\n",
      "0.09342146626715724\n",
      "0.0921970190089702\n",
      "0.09100538312006312\n",
      "0.08954904012235503\n",
      "0.08857006204032518\n",
      "0.0882682770215486\n",
      "0.08589734064129591\n",
      "0.08564843183150969\n",
      "0.08270375126789074\n",
      "0.0822812689832069\n",
      "0.08135336654051309\n",
      "0.08219558213869743\n",
      "0.08174429277640137\n"
     ]
    }
   ],
   "source": [
    "from sklearn.metrics import confusion_matrix, accuracy_score, matthews_corrcoef\n",
    "from sklearn.model_selection import train_test_split\n",
    "\n",
    "X_train, X_test, y_train, y_test = train_test_split(embeddings_tensor, y_tensor)\n",
    "\n",
    "training_dataset = Task1Dataset(X_train, y_train)\n",
    "training_loader = DataLoader(training_dataset, batch_size=32, shuffle=True)\n",
    "\n",
    "model = Task1ModelAAIndex()\n",
    "optimizer = optim.SGD(model.parameters(), lr=0.01)\n",
    "\n",
    "num_epochs = 100\n",
    "train_losses = []\n",
    "train_acc = []\n",
    "\n",
    "for e in range(num_epochs):\n",
    "    model.train()\n",
    "    total_loss = 0\n",
    "    for feats, labels in training_loader:\n",
    "        optimizer.zero_grad()\n",
    "        outputs = model(feats)\n",
    "        loss = criterion(outputs, labels)\n",
    "        loss.backward()\n",
    "        optimizer.step()\n",
    "        total_loss += loss.item()\n",
    "    avg_loss = total_loss / (len(training_dataset) / training_loader.batch_size)\n",
    "    print(avg_loss)\n",
    "    train_losses.append(avg_loss)\n",
    "    \n",
    "    model.eval()\n",
    "    with torch.no_grad():\n",
    "        thresh = 0.5\n",
    "        train_outputs_temp = model(X_train)\n",
    "        train_outputs = [1 if o > thresh else 0 for o in train_outputs_temp]\n",
    "        train_acc.append(accuracy_score(y_train, train_outputs))"
   ]
  },
  {
   "cell_type": "code",
   "execution_count": 45,
   "id": "aebd6205-ff83-4818-b43b-facb67457e5c",
   "metadata": {},
   "outputs": [
    {
     "data": {
      "image/png": "[encoded data removed]",
      "text/plain": [
       "<Figure size 800x500 with 1 Axes>"
      ]
     },
     "metadata": {},
     "output_type": "display_data"
    }
   ],
   "source": [
    "import matplotlib.pyplot as plt\n",
    "\n",
    "epochs = range(1, num_epochs + 1)\n",
    "\n",
    "plt.figure(figsize=(8,5))\n",
    "plt.plot(epochs, train_acc, label='Training Accuracy')\n",
    "#plt.plot(epochs, val_acc, label='Validation Accuracy')\n",
    "plt.xlabel('Epoch')\n",
    "plt.ylabel('Accuracy')\n",
    "plt.title('Training vs Validation Accuracy')\n",
    "plt.legend()\n",
    "plt.grid(True)\n",
    "#plt.savefig('images/accuracy_tracking/train_val_acc_22.png')\n",
    "plt.show()"
   ]
  },
  {
   "cell_type": "code",
   "execution_count": 46,
   "id": "305fe02f-e145-486f-b240-2e44c7984d89",
   "metadata": {},
   "outputs": [],
   "source": [
    "torch.save(model.state_dict(), 'model_test.pth')"
   ]
  },
  {
   "cell_type": "code",
   "execution_count": 89,
   "id": "b69bd31b-8561-4229-9295-ff2c46873b63",
   "metadata": {},
   "outputs": [
    {
     "name": "stdout",
     "output_type": "stream",
     "text": [
      "tensor([[0.],\n",
      "        [0.],\n",
      "        [0.],\n",
      "        [0.],\n",
      "        [0.],\n",
      "        [0.],\n",
      "        [0.],\n",
      "        [1.],\n",
      "        [0.],\n",
      "        [1.],\n",
      "        [0.],\n",
      "        [0.],\n",
      "        [1.],\n",
      "        [1.],\n",
      "        [0.],\n",
      "        [0.],\n",
      "        [0.],\n",
      "        [0.],\n",
      "        [0.],\n",
      "        [0.],\n",
      "        [0.],\n",
      "        [0.],\n",
      "        [0.],\n",
      "        [1.]])\n",
      "0.875\n"
     ]
    }
   ],
   "source": [
    "from sklearn.metrics import accuracy_score\n",
    "\n",
    "model1 = Task1ModelAAIndex()\n",
    "model1.load_state_dict(torch.load('model_test.pth'))\n",
    "\n",
    "model1.eval()\n",
    "with torch.no_grad():\n",
    "    outputs = model1(X_tensor)\n",
    "    preds = np.round(outputs)\n",
    "    print(preds)\n",
    "    print(accuracy_score(y_tensor, preds))"
   ]
  },
  {
   "cell_type": "code",
   "execution_count": 73,
   "id": "ef22ccbd-f97d-4a80-9ae4-02184dd23b5e",
   "metadata": {},
   "outputs": [],
   "source": [
    "from utils.pre_processing_task_1 import PreProcessingTask1 as pp\n",
    "df1 = pd.read_csv('datasets/raw/exp_proteins.tsv', sep='\\t')\n",
    "df1 = pp.add_enz_flag(df1)\n",
    "df1 = pp.truncate(df1, ['Sequence', 'Enzyme'])\n",
    "df2 = pd.read_csv('datasets/curated/exp_proteins_clustered_70_filter_lens_25-75_undersampled.tsv', sep='\\t')"
   ]
  },
  {
   "cell_type": "code",
   "execution_count": 80,
   "id": "b34578eb-ab0a-42dd-87ec-1a635dafb69a",
   "metadata": {},
   "outputs": [],
   "source": [
    "rand = df1.sample(32, random_state=234)"
   ]
  },
  {
   "cell_type": "code",
   "execution_count": 85,
   "id": "68f97fa0-0121-45c8-84bf-19615c4fc89f",
   "metadata": {},
   "outputs": [],
   "source": [
    "embeddings = np.load('test_diff.npy')"
   ]
  },
  {
   "cell_type": "code",
   "execution_count": 87,
   "id": "4253047b-f243-4d43-a545-a468b70196c3",
   "metadata": {},
   "outputs": [],
   "source": [
    "X_tensor = torch.tensor(embeddings, dtype=torch.float32)\n",
    "y_tensor = torch.tensor([0, 0, 0, 0, 0, 1, 0, 0, 0, 1, 0, 0, 0, 1, 0, 0, 0, 0, 0, 0, 0, 0, 0, 1], dtype=torch.float32).unsqueeze(dim=1)"
   ]
  },
  {
   "cell_type": "code",
   "execution_count": 90,
   "id": "eb4cbdcf-0f44-45b2-aeb7-f36bc3e1ac16",
   "metadata": {},
   "outputs": [
    {
     "data": {
      "text/plain": [
       "tensor([[0.],\n",
       "        [0.],\n",
       "        [0.],\n",
       "        [0.],\n",
       "        [0.],\n",
       "        [1.],\n",
       "        [0.],\n",
       "        [0.],\n",
       "        [0.],\n",
       "        [1.],\n",
       "        [0.],\n",
       "        [0.],\n",
       "        [0.],\n",
       "        [1.],\n",
       "        [0.],\n",
       "        [0.],\n",
       "        [0.],\n",
       "        [0.],\n",
       "        [0.],\n",
       "        [0.],\n",
       "        [0.],\n",
       "        [0.],\n",
       "        [0.],\n",
       "        [1.]])"
      ]
     },
     "execution_count": 90,
     "metadata": {},
     "output_type": "execute_result"
    }
   ],
   "source": [
    "y_tensor"
   ]
  }
 ],
 "metadata": {
  "kernelspec": {
   "display_name": "Python 3 (ipykernel)",
   "language": "python",
   "name": "python3"
  },
  "language_info": {
   "codemirror_mode": {
    "name": "ipython",
    "version": 3
   },
   "file_extension": ".py",
   "mimetype": "text/x-python",
   "name": "python",
   "nbconvert_exporter": "python",
   "pygments_lexer": "ipython3",
   "version": "3.13.5"
  }
 },
 "nbformat": 4,
 "nbformat_minor": 5
}
