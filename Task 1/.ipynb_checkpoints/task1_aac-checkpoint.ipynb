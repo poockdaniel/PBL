{
 "cells": [
  {
   "cell_type": "code",
   "execution_count": 6,
   "id": "b03681e5-b87d-4a60-a589-fe0176194f69",
   "metadata": {},
   "outputs": [],
   "source": [
    "import numpy as np\n",
    "from protlearn import features, preprocessing\n",
    "import pandas as pd\n",
    "\n",
    "# Import dataset / sequences\n",
    "df = pd.read_csv('/Users/daniel/Desktop/PBL/Task 1/preprocessed/pp_task1_c50_15_70.tsv', sep='\\t')"
   ]
  },
  {
   "cell_type": "code",
   "execution_count": 24,
   "id": "46d3f4b9-2b3c-4ee7-9a55-884b87f63e05",
   "metadata": {},
   "outputs": [],
   "source": [
    "# Get and encode the sequences using AA composition\n",
    "seqs = list(df['Sequence'])\n",
    "labels = list(df['Enzyme'])\n",
    "aac_encodings = features.aac(seqs)[0]"
   ]
  },
  {
   "cell_type": "code",
   "execution_count": 59,
   "id": "03752505-7cda-419b-ad9f-7e49c7a9156e",
   "metadata": {},
   "outputs": [],
   "source": [
    "from sklearn.ensemble import RandomForestClassifier\n",
    "from sklearn.linear_model import LinearRegression, LogisticRegression\n",
    "from sklearn.svm import LinearSVC\n",
    "from sklearn.metrics import *\n",
    "from sklearn.model_selection import train_test_split, cross_val_score\n",
    "\n",
    "# Initializing the estimators\n",
    "rf = RandomForestClassifier(n_estimators=500)\n",
    "lr = LinearRegression()\n",
    "logr = LogisticRegression()\n",
    "svm = LinearSVC()"
   ]
  },
  {
   "cell_type": "code",
   "execution_count": 60,
   "id": "cb317a9b-7195-4231-8bf8-3d9d09c52a67",
   "metadata": {},
   "outputs": [],
   "source": [
    "from sklearn.model_selection import KFold, StratifiedKFold\n",
    "\n",
    "# Cross-Validation-Scores\n",
    "X = aac_encodings\n",
    "y = labels\n",
    "skfold = StratifiedKFold(n_splits=5, shuffle=True, random_state=41)\n",
    "cv_rf = cross_val_score(rf, X, y, cv=skfold, scoring='precision')"
   ]
  },
  {
   "cell_type": "code",
   "execution_count": 61,
   "id": "5d5ecb5a-fb0a-4faf-bce0-2c21b711c4c2",
   "metadata": {},
   "outputs": [
    {
     "name": "stdout",
     "output_type": "stream",
     "text": [
      "0.7815\n",
      "0.0078\n"
     ]
    }
   ],
   "source": [
    "print(np.round(np.mean(cv_rf), 4))\n",
    "print(np.round(np.std(cv_rf), 4))"
   ]
  }
 ],
 "metadata": {
  "kernelspec": {
   "display_name": "Python 3 (ipykernel)",
   "language": "python",
   "name": "python3"
  },
  "language_info": {
   "codemirror_mode": {
    "name": "ipython",
    "version": 3
   },
   "file_extension": ".py",
   "mimetype": "text/x-python",
   "name": "python",
   "nbconvert_exporter": "python",
   "pygments_lexer": "ipython3",
   "version": "3.13.5"
  }
 },
 "nbformat": 4,
 "nbformat_minor": 5
}
