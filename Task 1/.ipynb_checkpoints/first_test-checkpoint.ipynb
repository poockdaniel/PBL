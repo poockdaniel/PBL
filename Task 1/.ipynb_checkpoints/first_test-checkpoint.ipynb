{
 "cells": [
  {
   "cell_type": "markdown",
   "id": "7c1e7324-2ebb-4d55-91e4-8f4454f7c146",
   "metadata": {},
   "source": [
    "First model test\n",
    "Use final.tsv, encoded with AAIndex and classified with simple random forest from scikit-learn.\n",
    "Poor performance. <br>\n",
    "MCC: \n",
    "- 10-90 Percentile, 50% seq-id: 0.5473853603451333\n",
    "- 20-80 Percentile, 70% seq-id: 0.5885211887506696"
   ]
  },
  {
   "cell_type": "code",
   "execution_count": 3,
   "id": "e70c5c44-768d-4baf-a4f7-a6cf5a099155",
   "metadata": {},
   "outputs": [
    {
     "data": {
      "text/html": [
       "<div>\n",
       "<style scoped>\n",
       "    .dataframe tbody tr th:only-of-type {\n",
       "        vertical-align: middle;\n",
       "    }\n",
       "\n",
       "    .dataframe tbody tr th {\n",
       "        vertical-align: top;\n",
       "    }\n",
       "\n",
       "    .dataframe thead th {\n",
       "        text-align: right;\n",
       "    }\n",
       "</style>\n",
       "<table border=\"1\" class=\"dataframe\">\n",
       "  <thead>\n",
       "    <tr style=\"text-align: right;\">\n",
       "      <th></th>\n",
       "      <th>Entry</th>\n",
       "      <th>Entry Name</th>\n",
       "      <th>Sequence</th>\n",
       "      <th>Enzyme</th>\n",
       "    </tr>\n",
       "  </thead>\n",
       "  <tbody>\n",
       "    <tr>\n",
       "      <th>0</th>\n",
       "      <td>Q66222</td>\n",
       "      <td>CAPSD_YOMV</td>\n",
       "      <td>MVYNITSSNQYQYFAAMWAEPTAMLNQCVSALSQSYQTQAARDTVR...</td>\n",
       "      <td>0</td>\n",
       "    </tr>\n",
       "    <tr>\n",
       "      <th>1</th>\n",
       "      <td>Q65205</td>\n",
       "      <td>VF267_ASFB7</td>\n",
       "      <td>MLLVLIDVDGFMGQLYNENGTQTILIPREVVIFYWEKNTASKILQL...</td>\n",
       "      <td>0</td>\n",
       "    </tr>\n",
       "    <tr>\n",
       "      <th>2</th>\n",
       "      <td>Q9VWS4</td>\n",
       "      <td>WGN_DROME</td>\n",
       "      <td>MMPPRLPGGHGGAMRSRSSSSGHHLNTTFHKRRRRRQQHHIGGSHI...</td>\n",
       "      <td>0</td>\n",
       "    </tr>\n",
       "    <tr>\n",
       "      <th>3</th>\n",
       "      <td>Q2G1S6</td>\n",
       "      <td>SSL5_STAA8</td>\n",
       "      <td>MKMTAIAKASLALGILATGTITSLHQTVNASEHKAKYENVTKDIFD...</td>\n",
       "      <td>0</td>\n",
       "    </tr>\n",
       "    <tr>\n",
       "      <th>4</th>\n",
       "      <td>Q5A1E3</td>\n",
       "      <td>CBF1_CANAL</td>\n",
       "      <td>MVKSHKRTLEKDEEHQEKKKANKISKDDMEIDAELLTQQASDSAHT...</td>\n",
       "      <td>0</td>\n",
       "    </tr>\n",
       "    <tr>\n",
       "      <th>...</th>\n",
       "      <td>...</td>\n",
       "      <td>...</td>\n",
       "      <td>...</td>\n",
       "      <td>...</td>\n",
       "    </tr>\n",
       "    <tr>\n",
       "      <th>26881</th>\n",
       "      <td>W7MC44</td>\n",
       "      <td>FDB87_GIBM7</td>\n",
       "      <td>MSDNILVLGAGELGTAILEALAKHPSRANAKLSVLLRPSSINSTAP...</td>\n",
       "      <td>1</td>\n",
       "    </tr>\n",
       "    <tr>\n",
       "      <th>26882</th>\n",
       "      <td>W7MMJ0</td>\n",
       "      <td>FUS3_GIBM7</td>\n",
       "      <td>MTSFGTLYTYMPNARVFKILAAAKLNNLIIEIPAYQHGVTNKSAEF...</td>\n",
       "      <td>1</td>\n",
       "    </tr>\n",
       "    <tr>\n",
       "      <th>26883</th>\n",
       "      <td>W7N2P0</td>\n",
       "      <td>DLH2_GIBM7</td>\n",
       "      <td>MDNVLARPADICCLKGSFHSGDATGSTIQIDGIDTYVAKPHPDKSN...</td>\n",
       "      <td>1</td>\n",
       "    </tr>\n",
       "    <tr>\n",
       "      <th>26884</th>\n",
       "      <td>W7N6P0</td>\n",
       "      <td>FUS2_GIBM7</td>\n",
       "      <td>MHKVFASDFFNFEFLRLLGTVPFQGAEVGECLTTAGRIKDGDPESW...</td>\n",
       "      <td>1</td>\n",
       "    </tr>\n",
       "    <tr>\n",
       "      <th>26885</th>\n",
       "      <td>W8X9R5</td>\n",
       "      <td>CTMF_CASD6</td>\n",
       "      <td>MNANERVIIVGAGHAGATVAMQLRKMDFAGDIILLGDERFSPYQRP...</td>\n",
       "      <td>1</td>\n",
       "    </tr>\n",
       "  </tbody>\n",
       "</table>\n",
       "<p>26886 rows × 4 columns</p>\n",
       "</div>"
      ],
      "text/plain": [
       "        Entry   Entry Name                                           Sequence  \\\n",
       "0      Q66222   CAPSD_YOMV  MVYNITSSNQYQYFAAMWAEPTAMLNQCVSALSQSYQTQAARDTVR...   \n",
       "1      Q65205  VF267_ASFB7  MLLVLIDVDGFMGQLYNENGTQTILIPREVVIFYWEKNTASKILQL...   \n",
       "2      Q9VWS4    WGN_DROME  MMPPRLPGGHGGAMRSRSSSSGHHLNTTFHKRRRRRQQHHIGGSHI...   \n",
       "3      Q2G1S6   SSL5_STAA8  MKMTAIAKASLALGILATGTITSLHQTVNASEHKAKYENVTKDIFD...   \n",
       "4      Q5A1E3   CBF1_CANAL  MVKSHKRTLEKDEEHQEKKKANKISKDDMEIDAELLTQQASDSAHT...   \n",
       "...       ...          ...                                                ...   \n",
       "26881  W7MC44  FDB87_GIBM7  MSDNILVLGAGELGTAILEALAKHPSRANAKLSVLLRPSSINSTAP...   \n",
       "26882  W7MMJ0   FUS3_GIBM7  MTSFGTLYTYMPNARVFKILAAAKLNNLIIEIPAYQHGVTNKSAEF...   \n",
       "26883  W7N2P0   DLH2_GIBM7  MDNVLARPADICCLKGSFHSGDATGSTIQIDGIDTYVAKPHPDKSN...   \n",
       "26884  W7N6P0   FUS2_GIBM7  MHKVFASDFFNFEFLRLLGTVPFQGAEVGECLTTAGRIKDGDPESW...   \n",
       "26885  W8X9R5   CTMF_CASD6  MNANERVIIVGAGHAGATVAMQLRKMDFAGDIILLGDERFSPYQRP...   \n",
       "\n",
       "       Enzyme  \n",
       "0           0  \n",
       "1           0  \n",
       "2           0  \n",
       "3           0  \n",
       "4           0  \n",
       "...       ...  \n",
       "26881       1  \n",
       "26882       1  \n",
       "26883       1  \n",
       "26884       1  \n",
       "26885       1  \n",
       "\n",
       "[26886 rows x 4 columns]"
      ]
     },
     "execution_count": 3,
     "metadata": {},
     "output_type": "execute_result"
    }
   ],
   "source": [
    "from protlearn import *\n",
    "import numpy as np\n",
    "from sklearn.linear_model import LogisticRegression\n",
    "import pandas as pd\n",
    "\n",
    "df = pd.read_csv('/Users/daniel/Desktop/PBL/Task 1/preprocessed/pp_task1_c50_15_70.tsv', sep='\\t')\n",
    "seq_list = [seq for seq in df['Sequence']]\n",
    "y = [enz for enz in df['Enzyme']]\n",
    "X = features.aaindex1(seq_list)[0]\n",
    "df"
   ]
  },
  {
   "cell_type": "code",
   "execution_count": 316,
   "id": "3e997cc3-69d0-4b53-b62c-e8814c11080b",
   "metadata": {},
   "outputs": [],
   "source": [
    "#X = dimreduction.tree_importance(X, y, top=15)[0]"
   ]
  },
  {
   "cell_type": "code",
   "execution_count": 7,
   "id": "52f2641f-333d-4db0-866c-6f7ae3551e1f",
   "metadata": {},
   "outputs": [],
   "source": [
    "from sklearn.ensemble import RandomForestClassifier\n",
    "from sklearn.ensemble import GradientBoostingClassifier\n",
    "from sklearn.model_selection import train_test_split, cross_val_score\n",
    "from sklearn.metrics import confusion_matrix, matthews_corrcoef, accuracy_score, precision_score, recall_score\n",
    "\n",
    "X_train, X_test, y_train, y_test = train_test_split(X, y, test_size=0.2, random_state=123)"
   ]
  },
  {
   "cell_type": "code",
   "execution_count": 6,
   "id": "3f5bd718-9f95-4cf4-918f-e09ab5188a5b",
   "metadata": {},
   "outputs": [
    {
     "data": {
      "text/plain": [
       "array([0.76087765, 0.73498233, 0.79523898, 0.80676957, 0.79375116])"
      ]
     },
     "execution_count": 6,
     "metadata": {},
     "output_type": "execute_result"
    }
   ],
   "source": [
    "rf = RandomForestClassifier()\n",
    "cross_val_score(rf, X, y, cv=5)"
   ]
  },
  {
   "cell_type": "code",
   "execution_count": 10,
   "id": "19e0453f-2619-4653-817e-fc02034bad47",
   "metadata": {},
   "outputs": [],
   "source": [
    "rf.fit(X_train, y_train)\n",
    "y_pred = rf.predict(X_test)"
   ]
  },
  {
   "cell_type": "code",
   "execution_count": 11,
   "id": "e124375a-edaa-43af-adca-fa8ab11693c8",
   "metadata": {},
   "outputs": [
    {
     "name": "stdout",
     "output_type": "stream",
     "text": [
      "[[2090  565]\n",
      " [ 605 2118]]\n",
      "0.5649687954568559\n",
      "0.7824470063220528\n",
      "0.7894148341408871\n",
      "0.7778185824458318\n"
     ]
    }
   ],
   "source": [
    "print(confusion_matrix(y_test, y_pred))\n",
    "print(matthews_corrcoef(y_test, y_pred))\n",
    "print(accuracy_score(y_test, y_pred))\n",
    "print(precision_score(y_test, y_pred))\n",
    "print(recall_score(y_test, y_pred))"
   ]
  },
  {
   "cell_type": "code",
   "execution_count": 369,
   "id": "308202ba-91d9-450d-bda4-97b0661fb798",
   "metadata": {},
   "outputs": [
    {
     "data": {
      "text/plain": [
       "37232"
      ]
     },
     "execution_count": 369,
     "metadata": {},
     "output_type": "execute_result"
    }
   ],
   "source": [
    "import numpy as np\n",
    "\n",
    "data = np.loadtxt('final.tsv', delimiter='\\t', skiprows=1, dtype=str)\n",
    "x = data[:, 2]\n",
    "y = data[:, 3]\n"
   ]
  }
 ],
 "metadata": {
  "kernelspec": {
   "display_name": "Python 3 (ipykernel)",
   "language": "python",
   "name": "python3"
  },
  "language_info": {
   "codemirror_mode": {
    "name": "ipython",
    "version": 3
   },
   "file_extension": ".py",
   "mimetype": "text/x-python",
   "name": "python",
   "nbconvert_exporter": "python",
   "pygments_lexer": "ipython3",
   "version": "3.13.5"
  }
 },
 "nbformat": 4,
 "nbformat_minor": 5
}
