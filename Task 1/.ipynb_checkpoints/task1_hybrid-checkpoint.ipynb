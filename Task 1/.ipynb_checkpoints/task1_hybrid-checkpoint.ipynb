{
 "cells": [
  {
   "cell_type": "code",
   "execution_count": 1,
   "id": "0cbffc84-4752-453c-8ec6-62876e86f5c9",
   "metadata": {},
   "outputs": [
    {
     "name": "stderr",
     "output_type": "stream",
     "text": [
      "/Library/Frameworks/Python.framework/Versions/3.13/lib/python3.13/site-packages/protlearn/features/aaindex1.py:8: UserWarning: pkg_resources is deprecated as an API. See https://setuptools.pypa.io/en/latest/pkg_resources.html. The pkg_resources package is slated for removal as early as 2025-11-30. Refrain from using this package or pin to Setuptools<81.\n",
      "  import pkg_resources\n"
     ]
    }
   ],
   "source": [
    "import numpy as np\n",
    "from protlearn import features, preprocessing, dimreduction\n",
    "import pandas as pd\n",
    "\n",
    "# Import dataset / sequences\n",
    "df = pd.read_csv('/Users/daniel/Desktop/PBL/Task 1/preprocessed/pp_task1_c50_15_70.tsv', sep='\\t')"
   ]
  },
  {
   "cell_type": "code",
   "execution_count": 2,
   "id": "63585b33-a169-4dd4-a770-96389a27504e",
   "metadata": {},
   "outputs": [],
   "source": [
    "# Get and encode the sequences using AA composition\n",
    "seqs = list(df['Sequence'])\n",
    "labels = list(df['Enzyme'])\n",
    "\n",
    "digram_encodings = features.ngram(seqs, n=2)[0]\n",
    "trigram_encodings = features.ngram(seqs, n=3)[0]"
   ]
  },
  {
   "cell_type": "code",
   "execution_count": 4,
   "id": "3f2eda74-998c-45d1-a003-a6cef6cc5c03",
   "metadata": {},
   "outputs": [],
   "source": [
    "aaindex_encodings = features.aaindex1(seqs, standardize='zscore')[0]\n",
    "aac_encodings = features.aac(seqs)[0]"
   ]
  },
  {
   "cell_type": "code",
   "execution_count": 107,
   "id": "28fb86aa-a9c6-423e-88c3-fd722bc144f6",
   "metadata": {},
   "outputs": [],
   "source": [
    "#aaindex_encodings_red = dimreduction.correlation(aaindex_encodings, thres=0.93)"
   ]
  },
  {
   "cell_type": "code",
   "execution_count": 5,
   "id": "c2cfc833-ae18-41a9-bf88-3bc3deca3481",
   "metadata": {},
   "outputs": [],
   "source": [
    "encodings_hybrid = np.array([np.concat((aac_encodings[i], aaindex_encodings[i])) for i in range(0, len(aac_encodings))])"
   ]
  },
  {
   "cell_type": "code",
   "execution_count": 6,
   "id": "8f2e76a1-2b4d-4fd5-bb8f-23576b485637",
   "metadata": {},
   "outputs": [],
   "source": [
    "from sklearn.ensemble import RandomForestClassifier\n",
    "from sklearn.linear_model import LinearRegression, LogisticRegression\n",
    "from sklearn.svm import LinearSVC\n",
    "from sklearn.metrics import *\n",
    "from sklearn.model_selection import train_test_split, cross_val_score\n",
    "\n",
    "# Initializing the estimators\n",
    "rf = RandomForestClassifier()\n",
    "lr = LinearRegression()\n",
    "logr = LogisticRegression()\n",
    "svm = LinearSVC()"
   ]
  },
  {
   "cell_type": "code",
   "execution_count": 7,
   "id": "2cb4be85-c525-499b-9203-ccbffe985ca2",
   "metadata": {},
   "outputs": [],
   "source": [
    "from sklearn.model_selection import KFold, StratifiedKFold\n",
    "\n",
    "# Cross-Validation-Scores\n",
    "X_di = digram_encodings\n",
    "X_tri = trigram_encodings\n",
    "y = labels\n",
    "skfold = StratifiedKFold(n_splits=5, shuffle=True, random_state=41)"
   ]
  },
  {
   "cell_type": "code",
   "execution_count": 22,
   "id": "07402138-1778-4b8d-91ad-af04f85410d8",
   "metadata": {},
   "outputs": [],
   "source": [
    "cv_rf_di = cross_val_score(rf, X_di, y, cv=skfold, scoring='accuracy')\n",
    "cv_rf_tri = cross_val_score(rf, X_tri, y, cv=skfold, scoring='accuracy')"
   ]
  },
  {
   "cell_type": "code",
   "execution_count": 74,
   "id": "ccd9504c-43b2-4a05-8549-e16a07ac49b6",
   "metadata": {},
   "outputs": [],
   "source": [
    "cv_rf_red = cross_val_score(rf, aaindex_encodings_red, y, cv=skfold, scoring='accuracy')"
   ]
  },
  {
   "cell_type": "code",
   "execution_count": 8,
   "id": "38ba4703-7898-4a03-abd9-0a64b730524d",
   "metadata": {},
   "outputs": [],
   "source": [
    "cv_rf_hybrid = cross_val_score(rf, encodings_hybrid, y, cv=skfold, scoring='accuracy')"
   ]
  },
  {
   "cell_type": "code",
   "execution_count": 9,
   "id": "38cd5315-7981-4074-afb2-1e8d9a461a22",
   "metadata": {},
   "outputs": [
    {
     "name": "stdout",
     "output_type": "stream",
     "text": [
      "0.783\n",
      "0.007\n"
     ]
    }
   ],
   "source": [
    "#print(np.round(np.mean(cv_rf_di), 4))\n",
    "#print(np.round(np.std(cv_rf_di), 4))\n",
    "#print(np.round(np.mean(cv_rf_tri), 4))\n",
    "#print(np.round(np.std(cv_rf_tri), 4))\n",
    "#print(np.round(np.mean(cv_rf_red), 4))\n",
    "#print(np.round(np.std(cv_rf_red), 4))\n",
    "print(np.round(np.mean(cv_rf_hybrid), 4))\n",
    "print(np.round(np.std(cv_rf_hybrid), 4))"
   ]
  }
 ],
 "metadata": {
  "kernelspec": {
   "display_name": "Python 3 (ipykernel)",
   "language": "python",
   "name": "python3"
  },
  "language_info": {
   "codemirror_mode": {
    "name": "ipython",
    "version": 3
   },
   "file_extension": ".py",
   "mimetype": "text/x-python",
   "name": "python",
   "nbconvert_exporter": "python",
   "pygments_lexer": "ipython3",
   "version": "3.13.5"
  }
 },
 "nbformat": 4,
 "nbformat_minor": 5
}
