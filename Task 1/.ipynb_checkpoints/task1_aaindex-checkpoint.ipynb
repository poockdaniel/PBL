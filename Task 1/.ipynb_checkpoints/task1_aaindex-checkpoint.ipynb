{
 "cells": [
  {
   "cell_type": "code",
   "execution_count": 2,
   "id": "0606aaff-928b-4397-8414-d2065c4d178d",
   "metadata": {},
   "outputs": [],
   "source": [
    "import numpy as np\n",
    "from protlearn import features, preprocessing\n",
    "import pandas as pd\n",
    "\n",
    "# Import dataset / sequences\n",
    "df = pd.read_csv('/Users/daniel/Desktop/PBL/Task 1/preprocessed/pp_task1_c50_15_70.tsv', sep='\\t')"
   ]
  },
  {
   "cell_type": "code",
   "execution_count": 52,
   "id": "68869c5b-3b38-42d3-8af9-2fa55740bd1f",
   "metadata": {},
   "outputs": [],
   "source": [
    "# Get and encode the sequences using AA composition\n",
    "seqs = list(df['Sequence'])\n",
    "labels = list(df['Enzyme'])\n",
    "encodings = features.aaindex1(seqs)[0]"
   ]
  },
  {
   "cell_type": "code",
   "execution_count": 53,
   "id": "43097c51-d040-4e0d-8952-032a6e1c18c8",
   "metadata": {},
   "outputs": [],
   "source": [
    "from sklearn.ensemble import RandomForestClassifier\n",
    "from sklearn.linear_model import LinearRegression, LogisticRegression\n",
    "from sklearn.svm import LinearSVC\n",
    "from sklearn.metrics import *\n",
    "from sklearn.model_selection import train_test_split, cross_val_score\n",
    "\n",
    "# Initializing the estimators\n",
    "rf = RandomForestClassifier()\n",
    "lr = LinearRegression()\n",
    "logr = LogisticRegression()\n",
    "svm = LinearSVC()"
   ]
  },
  {
   "cell_type": "code",
   "execution_count": 54,
   "id": "9529438f-aded-4474-9271-82ee4e0c78ab",
   "metadata": {},
   "outputs": [],
   "source": [
    "from sklearn.model_selection import KFold, StratifiedKFold\n",
    "\n",
    "# Cross-Validation-Scores\n",
    "X = aac_encodings\n",
    "y = labels\n",
    "skfold = StratifiedKFold(n_splits=5, shuffle=True, random_state=41)"
   ]
  },
  {
   "cell_type": "code",
   "execution_count": 55,
   "id": "691c0d0b-75c8-4023-aefc-545ec6cee357",
   "metadata": {},
   "outputs": [],
   "source": [
    "cv_rf = cross_val_score(rf, X, y, cv=skfold, scoring='accuracy')"
   ]
  },
  {
   "cell_type": "code",
   "execution_count": 56,
   "id": "66b87564-04c2-4e16-83a4-edbb3db05af7",
   "metadata": {},
   "outputs": [
    {
     "name": "stdout",
     "output_type": "stream",
     "text": [
      "0.7814\n",
      "0.0075\n"
     ]
    }
   ],
   "source": [
    "print(np.round(np.mean(cv_rf), 4))\n",
    "print(np.round(np.std(cv_rf), 4))"
   ]
  }
 ],
 "metadata": {
  "kernelspec": {
   "display_name": "Python 3 (ipykernel)",
   "language": "python",
   "name": "python3"
  },
  "language_info": {
   "codemirror_mode": {
    "name": "ipython",
    "version": 3
   },
   "file_extension": ".py",
   "mimetype": "text/x-python",
   "name": "python",
   "nbconvert_exporter": "python",
   "pygments_lexer": "ipython3",
   "version": "3.13.5"
  }
 },
 "nbformat": 4,
 "nbformat_minor": 5
}
